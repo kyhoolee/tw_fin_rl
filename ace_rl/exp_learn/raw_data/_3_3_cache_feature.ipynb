{
 "cells": [
  {
   "cell_type": "code",
   "execution_count": 1,
   "id": "584094c5",
   "metadata": {},
   "outputs": [
    {
     "name": "stdout",
     "output_type": "stream",
     "text": [
      "<xarray.Dataset> Size: 501MB\n",
      "Dimensions:  (feature: 9, time: 2662909, symbol: 4)\n",
      "Coordinates:\n",
      "  * feature  (feature) <U13 468B 'Open' 'High' ... 'TakerBuyQuote'\n",
      "  * symbol   (symbol) object 32B 'BTCUSDT' 'ETHUSDT' 'BNBUSDT' 'SOLUSDT'\n",
      "  * time     (time) datetime64[ns] 21MB 2020-08-11T06:00:00 ... 2025-09-04T11...\n",
      "Data variables:\n",
      "    mask     (time, symbol, feature) bool 96MB dask.array<chunksize=(16384, 4, 9), meta=np.ndarray>\n",
      "    values   (time, symbol, feature) float32 383MB dask.array<chunksize=(16384, 4, 9), meta=np.ndarray>\n",
      "Attributes:\n",
      "    calendar_source:       inferred:range_intersection\n",
      "    feature_order_source:  inferred\n"
     ]
    }
   ],
   "source": [
    "from pathlib import Path\n",
    "import xarray as xr\n",
    "\n",
    "root = Path(\"../../../work/processed/binance\").expanduser()\n",
    "cached_cube = xr.open_zarr(\n",
    "    (root / \"data\" / \"zarr_cube_intersection\").as_posix(),\n",
    "    consolidated=True,  # flip to False if you ever disable consolidation\n",
    ")\n",
    "print(cached_cube)\n",
    "\n",
    "cube = cached_cube \n"
   ]
  },
  {
   "cell_type": "code",
   "execution_count": null,
   "id": "5c0cd6d6",
   "metadata": {},
   "outputs": [],
   "source": []
  },
  {
   "cell_type": "code",
   "execution_count": 2,
   "id": "3fc2cf9f",
   "metadata": {},
   "outputs": [
    {
     "name": "stdout",
     "output_type": "stream",
     "text": [
      "<xarray.Dataset> Size: 501MB\n",
      "Dimensions:  (feature: 9, time: 2662909, symbol: 4)\n",
      "Coordinates:\n",
      "  * feature  (feature) <U13 468B 'Open' 'High' ... 'TakerBuyQuote'\n",
      "  * symbol   (symbol) object 32B 'BTCUSDT' 'ETHUSDT' 'BNBUSDT' 'SOLUSDT'\n",
      "  * time     (time) datetime64[ns] 21MB 2020-08-11T06:00:00 ... 2025-09-04T11...\n",
      "Data variables:\n",
      "    mask     (time, symbol, feature) bool 96MB dask.array<chunksize=(16384, 4, 9), meta=np.ndarray>\n",
      "    values   (time, symbol, feature) float32 383MB dask.array<chunksize=(16384, 4, 9), meta=np.ndarray>\n",
      "Attributes:\n",
      "    calendar_source:       inferred:range_intersection\n",
      "    feature_order_source:  inferred\n",
      "\n",
      "['BTCUSDT' 'ETHUSDT' 'BNBUSDT' 'SOLUSDT']\n",
      "\n",
      "['Open' 'High' 'Low' 'Close' 'Volume' 'QuoteVolume' 'Trades'\n",
      " 'TakerBuyBase' 'TakerBuyQuote']\n",
      "\n",
      "<xarray.DataArray 'values' (time: 2662909, symbol: 4, feature: 9)> Size: 383MB\n",
      "dask.array<open_dataset-values, shape=(2662909, 4, 9), dtype=float32, chunksize=(16384, 4, 9), chunktype=numpy.ndarray>\n",
      "Coordinates:\n",
      "  * feature  (feature) <U13 468B 'Open' 'High' ... 'TakerBuyQuote'\n",
      "  * symbol   (symbol) object 32B 'BTCUSDT' 'ETHUSDT' 'BNBUSDT' 'SOLUSDT'\n",
      "  * time     (time) datetime64[ns] 21MB 2020-08-11T06:00:00 ... 2025-09-04T11...\n",
      "\n"
     ]
    }
   ],
   "source": [
    "print(cube)\n",
    "print()\n",
    "print(cube.coords.get(\"symbol\").values)\n",
    "print()\n",
    "print(cube.coords.get(\"feature\").values)\n",
    "print()\n",
    "print(cube.data_vars.get(\"values\"))\n",
    "print()"
   ]
  },
  {
   "cell_type": "code",
   "execution_count": 3,
   "id": "2f47e783",
   "metadata": {},
   "outputs": [],
   "source": [
    "from ace_rl.core.candle_feat_ops import (\n",
    "    make_atr, make_rsi,\n",
    "    make_ema_close, make_ema_ratio, \n",
    "    make_return,\n",
    "    make_taker_buy_ratio,\n",
    "    make_volatility,\n",
    "    make_volume_ratio,\n",
    "    make_zscore\n",
    ")"
   ]
  },
  {
   "cell_type": "code",
   "execution_count": 4,
   "id": "48950850",
   "metadata": {},
   "outputs": [
    {
     "name": "stdout",
     "output_type": "stream",
     "text": [
      "Feature: liq_volratio_w60_0895, shape: (2662909, 4, 1), coords: Coordinates:\n",
      "  * feature  (feature) <U12 48B 'vol_ratio_60'\n",
      "  * symbol   (symbol) <U7 112B 'BTCUSDT' 'ETHUSDT' 'BNBUSDT' 'SOLUSDT'\n",
      "  * time     (time) datetime64[ns] 21MB 2020-08-11T06:00:00 ... 2025-09-04T11...\n",
      "<xarray.Dataset> Size: 64MB\n",
      "Dimensions:  (feature: 1, symbol: 4, time: 2662909)\n",
      "Coordinates:\n",
      "  * feature  (feature) <U12 48B 'vol_ratio_60'\n",
      "  * symbol   (symbol) <U7 112B 'BTCUSDT' 'ETHUSDT' 'BNBUSDT' 'SOLUSDT'\n",
      "  * time     (time) datetime64[ns] 21MB 2020-08-11T06:00:00 ... 2025-09-04T11...\n",
      "Data variables:\n",
      "    values   (time, symbol, feature) float32 43MB dask.array<chunksize=(16384, 4, 1), meta=np.ndarray>\n",
      "Attributes:\n",
      "    params:   {'method': 'vol/ma', 'window': 60}\n",
      "\n",
      "Feature: mom_rsi_14_a289, shape: (2662909, 4, 1), coords: Coordinates:\n",
      "  * feature  (feature) <U6 24B 'rsi_14'\n",
      "  * symbol   (symbol) <U7 112B 'BTCUSDT' 'ETHUSDT' 'BNBUSDT' 'SOLUSDT'\n",
      "  * time     (time) datetime64[ns] 21MB 2020-08-11T06:00:00 ... 2025-09-04T11...\n",
      "<xarray.Dataset> Size: 64MB\n",
      "Dimensions:  (feature: 1, symbol: 4, time: 2662909)\n",
      "Coordinates:\n",
      "  * feature  (feature) <U6 24B 'rsi_14'\n",
      "  * symbol   (symbol) <U7 112B 'BTCUSDT' 'ETHUSDT' 'BNBUSDT' 'SOLUSDT'\n",
      "  * time     (time) datetime64[ns] 21MB 2020-08-11T06:00:00 ... 2025-09-04T11...\n",
      "Data variables:\n",
      "    values   (time, symbol, feature) float32 43MB dask.array<chunksize=(16384, 4, 1), meta=np.ndarray>\n",
      "Attributes:\n",
      "    params:   {'method': 'rsi=ema(gain)/ema(|delta|)', 'span': 14}\n",
      "\n",
      "Feature: of_taker_buy_ratio_967f, shape: (2662909, 4, 1), coords: Coordinates:\n",
      "  * feature  (feature) <U15 60B 'taker_buy_ratio'\n",
      "  * symbol   (symbol) <U7 112B 'BTCUSDT' 'ETHUSDT' 'BNBUSDT' 'SOLUSDT'\n",
      "  * time     (time) datetime64[ns] 21MB 2020-08-11T06:00:00 ... 2025-09-04T11...\n",
      "<xarray.Dataset> Size: 64MB\n",
      "Dimensions:  (feature: 1, symbol: 4, time: 2662909)\n",
      "Coordinates:\n",
      "  * feature  (feature) <U15 60B 'taker_buy_ratio'\n",
      "  * symbol   (symbol) <U7 112B 'BTCUSDT' 'ETHUSDT' 'BNBUSDT' 'SOLUSDT'\n",
      "  * time     (time) datetime64[ns] 21MB 2020-08-11T06:00:00 ... 2025-09-04T11...\n",
      "Data variables:\n",
      "    values   (time, symbol, feature) float32 43MB dask.array<chunksize=(16384, 4, 1), meta=np.ndarray>\n",
      "Attributes:\n",
      "    params:   {'method': 'taker_buy_ratio'}\n",
      "\n",
      "Feature: ret_lag5_bb88, shape: (2662909, 4, 1), coords: Coordinates:\n",
      "  * feature  (feature) <U11 44B 'return_lag5'\n",
      "  * symbol   (symbol) <U7 112B 'BTCUSDT' 'ETHUSDT' 'BNBUSDT' 'SOLUSDT'\n",
      "  * time     (time) datetime64[ns] 21MB 2020-08-11T06:00:00 ... 2025-09-04T11...\n",
      "<xarray.Dataset> Size: 64MB\n",
      "Dimensions:  (feature: 1, symbol: 4, time: 2662909)\n",
      "Coordinates:\n",
      "  * feature  (feature) <U11 44B 'return_lag5'\n",
      "  * symbol   (symbol) <U7 112B 'BTCUSDT' 'ETHUSDT' 'BNBUSDT' 'SOLUSDT'\n",
      "  * time     (time) datetime64[ns] 21MB 2020-08-11T06:00:00 ... 2025-09-04T11...\n",
      "Data variables:\n",
      "    values   (time, symbol, feature) float32 43MB dask.array<chunksize=(16384, 4, 1), meta=np.ndarray>\n",
      "Attributes:\n",
      "    params:   {'lookback': 5, 'method': 'log_return'}\n",
      "\n",
      "Feature: risk_atr_14_1981, shape: (2662909, 4, 1), coords: Coordinates:\n",
      "  * feature  (feature) <U6 24B 'atr_14'\n",
      "  * symbol   (symbol) <U7 112B 'BTCUSDT' 'ETHUSDT' 'BNBUSDT' 'SOLUSDT'\n",
      "  * time     (time) datetime64[ns] 21MB 2020-08-11T06:00:00 ... 2025-09-04T11...\n",
      "<xarray.Dataset> Size: 64MB\n",
      "Dimensions:  (feature: 1, symbol: 4, time: 2662909)\n",
      "Coordinates:\n",
      "  * feature  (feature) <U6 24B 'atr_14'\n",
      "  * symbol   (symbol) <U7 112B 'BTCUSDT' 'ETHUSDT' 'BNBUSDT' 'SOLUSDT'\n",
      "  * time     (time) datetime64[ns] 21MB 2020-08-11T06:00:00 ... 2025-09-04T11...\n",
      "Data variables:\n",
      "    values   (time, symbol, feature) float32 43MB dask.array<chunksize=(16384, 4, 1), meta=np.ndarray>\n",
      "Attributes:\n",
      "    params:   {'method': 'atr=ema(TR)', 'span': 14}\n",
      "\n",
      "Feature: trend_emar_20_264a, shape: (2662909, 4, 1), coords: Coordinates:\n",
      "  * feature  (feature) <U12 48B 'ema_ratio_20'\n",
      "  * symbol   (symbol) <U7 112B 'BTCUSDT' 'ETHUSDT' 'BNBUSDT' 'SOLUSDT'\n",
      "  * time     (time) datetime64[ns] 21MB 2020-08-11T06:00:00 ... 2025-09-04T11...\n",
      "<xarray.Dataset> Size: 64MB\n",
      "Dimensions:  (feature: 1, symbol: 4, time: 2662909)\n",
      "Coordinates:\n",
      "  * feature  (feature) <U12 48B 'ema_ratio_20'\n",
      "  * symbol   (symbol) <U7 112B 'BTCUSDT' 'ETHUSDT' 'BNBUSDT' 'SOLUSDT'\n",
      "  * time     (time) datetime64[ns] 21MB 2020-08-11T06:00:00 ... 2025-09-04T11...\n",
      "Data variables:\n",
      "    values   (time, symbol, feature) float32 43MB dask.array<chunksize=(16384, 4, 1), meta=np.ndarray>\n",
      "Attributes:\n",
      "    params:   {'method': 'ema_ratio', 'span': 20}\n",
      "\n",
      "Feature: vol_win60_4b89, shape: (2662909, 4, 1), coords: Coordinates:\n",
      "  * feature  (feature) <U13 52B 'volatility_60'\n",
      "  * symbol   (symbol) <U7 112B 'BTCUSDT' 'ETHUSDT' 'BNBUSDT' 'SOLUSDT'\n",
      "  * time     (time) datetime64[ns] 21MB 2020-08-11T06:00:00 ... 2025-09-04T11...\n",
      "<xarray.Dataset> Size: 64MB\n",
      "Dimensions:  (feature: 1, symbol: 4, time: 2662909)\n",
      "Coordinates:\n",
      "  * feature  (feature) <U13 52B 'volatility_60'\n",
      "  * symbol   (symbol) <U7 112B 'BTCUSDT' 'ETHUSDT' 'BNBUSDT' 'SOLUSDT'\n",
      "  * time     (time) datetime64[ns] 21MB 2020-08-11T06:00:00 ... 2025-09-04T11...\n",
      "Data variables:\n",
      "    values   (time, symbol, feature) float32 43MB dask.array<chunksize=(16384, 4, 1), meta=np.ndarray>\n",
      "Attributes:\n",
      "    params:   {'method': 'rolling_std', 'strict_tminus1': True, 'window': 60}\n",
      "\n",
      "Feature: z_Close_w240_1f15, shape: (2662909, 4, 1), coords: Coordinates:\n",
      "  * feature  (feature) <U11 44B 'z_Close_240'\n",
      "  * symbol   (symbol) <U7 112B 'BTCUSDT' 'ETHUSDT' 'BNBUSDT' 'SOLUSDT'\n",
      "  * time     (time) datetime64[ns] 21MB 2020-08-11T06:00:00 ... 2025-09-04T11...\n",
      "<xarray.Dataset> Size: 64MB\n",
      "Dimensions:  (feature: 1, symbol: 4, time: 2662909)\n",
      "Coordinates:\n",
      "  * feature  (feature) <U11 44B 'z_Close_240'\n",
      "  * symbol   (symbol) <U7 112B 'BTCUSDT' 'ETHUSDT' 'BNBUSDT' 'SOLUSDT'\n",
      "  * time     (time) datetime64[ns] 21MB 2020-08-11T06:00:00 ... 2025-09-04T11...\n",
      "Data variables:\n",
      "    values   (time, symbol, feature) float32 43MB dask.array<chunksize=(16384, 4, 1), meta=np.ndarray>\n",
      "Attributes:\n",
      "    params:   {'src': 'Close', 'strict_tminus1': True, 'window': 240}\n",
      "\n"
     ]
    }
   ],
   "source": [
    "from pathlib import Path\n",
    "import xarray as xr\n",
    "from ace_rl.core.cube_feature import load_cube\n",
    "\n",
    "root = Path(\"/home/kylh/phd/tw_fin_rl/work/processed/binance\")\n",
    "feature_names = [\n",
    "    \"liq_volratio_w60_0895\",\n",
    "    \"mom_rsi_14_a289\",\n",
    "    \"of_taker_buy_ratio_967f\",\n",
    "    \"ret_lag5_bb88\",\n",
    "    \"risk_atr_14_1981\",\n",
    "    \"trend_emar_20_264a\",\n",
    "    \"vol_win60_4b89\",\n",
    "    \"z_Close_w240_1f15\",\n",
    "]\n",
    "\n",
    "feature_cubes = {name: load_cube(root, \"features\", name) for name in feature_names}\n",
    "\n",
    "## print debug \n",
    "for name, ds in feature_cubes.items():\n",
    "    print(f\"Feature: {name}, shape: {ds['values'].shape}, coords: {ds.coords}\")\n",
    "    print(ds)\n",
    "    print()\n",
    "\n",
    "# optional: stitch them into one dataset sharing the same time/symbol index\n",
    "combined = xr.concat([ds[\"values\"] for ds in feature_cubes.values()], dim=\"feature\").to_dataset(name=\"values\")\n"
   ]
  },
  {
   "cell_type": "code",
   "execution_count": 5,
   "id": "b496f69b",
   "metadata": {},
   "outputs": [
    {
     "name": "stdout",
     "output_type": "stream",
     "text": [
      "<xarray.Dataset> Size: 362MB\n",
      "Dimensions:  (feature: 8, symbol: 4, time: 2662909)\n",
      "Coordinates:\n",
      "  * feature  (feature) <U15 480B 'vol_ratio_60' 'rsi_14' ... 'z_Close_240'\n",
      "  * symbol   (symbol) <U7 112B 'BTCUSDT' 'ETHUSDT' 'BNBUSDT' 'SOLUSDT'\n",
      "  * time     (time) datetime64[ns] 21MB 2020-08-11T06:00:00 ... 2025-09-04T11...\n",
      "Data variables:\n",
      "    values   (time, symbol, feature) float32 341MB dask.array<chunksize=(16384, 4, 1), meta=np.ndarray>\n",
      "['BTCUSDT' 'ETHUSDT' 'BNBUSDT' 'SOLUSDT']\n",
      "['vol_ratio_60' 'rsi_14' 'taker_buy_ratio' 'return_lag5' 'atr_14'\n",
      " 'ema_ratio_20' 'volatility_60' 'z_Close_240']\n"
     ]
    }
   ],
   "source": [
    "print(combined)\n",
    "\n",
    "print(combined.coords.get(\"symbol\").values)\n",
    "print(combined.coords.get(\"feature\").values)"
   ]
  },
  {
   "cell_type": "code",
   "execution_count": null,
   "id": "dfc0c2f1",
   "metadata": {},
   "outputs": [],
   "source": []
  },
  {
   "cell_type": "code",
   "execution_count": null,
   "id": "08b53d7f",
   "metadata": {},
   "outputs": [],
   "source": []
  },
  {
   "cell_type": "code",
   "execution_count": null,
   "id": "cae4cdd4",
   "metadata": {},
   "outputs": [],
   "source": []
  },
  {
   "cell_type": "code",
   "execution_count": null,
   "id": "62e8cd4d",
   "metadata": {},
   "outputs": [],
   "source": []
  },
  {
   "cell_type": "code",
   "execution_count": null,
   "id": "d1b14115",
   "metadata": {},
   "outputs": [],
   "source": []
  },
  {
   "cell_type": "code",
   "execution_count": null,
   "id": "449ab8c3",
   "metadata": {},
   "outputs": [],
   "source": []
  },
  {
   "cell_type": "code",
   "execution_count": null,
   "id": "c58e068d",
   "metadata": {},
   "outputs": [],
   "source": []
  },
  {
   "cell_type": "code",
   "execution_count": null,
   "id": "5d25f76c",
   "metadata": {},
   "outputs": [],
   "source": []
  },
  {
   "cell_type": "code",
   "execution_count": null,
   "id": "7d40efac",
   "metadata": {},
   "outputs": [],
   "source": []
  },
  {
   "cell_type": "code",
   "execution_count": null,
   "metadata": {},
   "outputs": [],
   "source": []
  },
  {
   "cell_type": "code",
   "execution_count": null,
   "id": "816eab0e",
   "metadata": {},
   "outputs": [],
   "source": []
  },
  {
   "cell_type": "code",
   "execution_count": null,
   "id": "14971242",
   "metadata": {},
   "outputs": [],
   "source": []
  },
  {
   "cell_type": "code",
   "execution_count": null,
   "id": "1640c383",
   "metadata": {},
   "outputs": [],
   "source": []
  },
  {
   "cell_type": "code",
   "execution_count": null,
   "id": "f0cc32d7",
   "metadata": {},
   "outputs": [],
   "source": []
  },
  {
   "cell_type": "code",
   "execution_count": null,
   "id": "828eecfa",
   "metadata": {},
   "outputs": [],
   "source": []
  },
  {
   "cell_type": "code",
   "execution_count": null,
   "id": "001d8449",
   "metadata": {},
   "outputs": [],
   "source": []
  },
  {
   "cell_type": "code",
   "execution_count": null,
   "id": "34350f54",
   "metadata": {},
   "outputs": [],
   "source": []
  },
  {
   "cell_type": "code",
   "execution_count": null,
   "id": "d6d98d63",
   "metadata": {},
   "outputs": [],
   "source": []
  },
  {
   "cell_type": "code",
   "execution_count": null,
   "metadata": {},
   "outputs": [],
   "source": []
  },
  {
   "cell_type": "code",
   "execution_count": null,
   "metadata": {},
   "outputs": [],
   "source": []
  },
  {
   "cell_type": "code",
   "execution_count": null,
   "metadata": {},
   "outputs": [],
   "source": []
  },
  {
   "cell_type": "code",
   "execution_count": null,
   "metadata": {},
   "outputs": [],
   "source": []
  }
 ],
 "metadata": {
  "kernelspec": {
   "display_name": "cleanrl",
   "language": "python",
   "name": "python3"
  },
  "language_info": {
   "codemirror_mode": {
    "name": "ipython",
    "version": 3
   },
   "file_extension": ".py",
   "mimetype": "text/x-python",
   "name": "python",
   "nbconvert_exporter": "python",
   "pygments_lexer": "ipython3",
   "version": "3.10.18"
  }
 },
 "nbformat": 4,
 "nbformat_minor": 5
}
