{
 "cells": [
  {
   "cell_type": "code",
   "execution_count": 2,
   "id": "ff0a521c",
   "metadata": {},
   "outputs": [
    {
     "name": "stdout",
     "output_type": "stream",
     "text": [
      "Collecting dotenv\n",
      "  Downloading dotenv-0.9.9-py2.py3-none-any.whl.metadata (279 bytes)\n",
      "Collecting python-dotenv (from dotenv)\n",
      "  Using cached python_dotenv-1.1.1-py3-none-any.whl.metadata (24 kB)\n",
      "Downloading dotenv-0.9.9-py2.py3-none-any.whl (1.9 kB)\n",
      "Using cached python_dotenv-1.1.1-py3-none-any.whl (20 kB)\n",
      "Installing collected packages: python-dotenv, dotenv\n",
      "\u001b[2K   \u001b[90m━━━━━━━━━━━━━━━━━━━━━━━━━━━━━━━━━━━━━━━━\u001b[0m \u001b[32m2/2\u001b[0m [dotenv]\n",
      "\u001b[1A\u001b[2KSuccessfully installed dotenv-0.9.9 python-dotenv-1.1.1\n"
     ]
    }
   ],
   "source": [
    "! pip install dotenv"
   ]
  },
  {
   "cell_type": "code",
   "execution_count": 3,
   "id": "1c36f907",
   "metadata": {},
   "outputs": [],
   "source": [
    "# recent_trades_inspect.py\n",
    "import os\n",
    "import requests\n",
    "from datetime import datetime, timezone\n",
    "from dotenv import load_dotenv\n",
    "import polars as pl\n",
    "\n",
    "BASE = \"https://api.binance.com\"\n",
    "\n",
    "def iso(ms: int) -> str:\n",
    "    return datetime.fromtimestamp(ms/1000, tz=timezone.utc).isoformat()\n",
    "\n",
    "def fetch_recent_trades(symbol: str, limit: int = 1000):\n",
    "    \"\"\"\n",
    "    /api/v3/trades (Recent Trades List)\n",
    "    - Public, KHÔNG cần API key/signature\n",
    "    - Trả về các trường: id, price, qty, quoteQty, time, isBuyerMaker, isBestMatch\n",
    "    - Lấy tối đa 'limit' trade gần nhất (không phân trang lùi theo thời gian được)\n",
    "    \"\"\"\n",
    "    url = f\"{BASE}/api/v3/trades\"\n",
    "    params = {\"symbol\": symbol.upper(), \"limit\": limit}\n",
    "    r = requests.get(url, params=params, timeout=15)\n",
    "    r.raise_for_status()\n",
    "    return r.json()\n",
    "\n",
    "def summarize_recent_trades(trades: list[dict]) -> pl.DataFrame:\n",
    "    \"\"\"\n",
    "    Tạo bảng tóm tắt nhỏ: đếm/khối lượng phía BUY-taker vs SELL-taker\n",
    "    \"\"\"\n",
    "    if not trades:\n",
    "        return pl.DataFrame({\n",
    "            \"side\": pl.Series([], dtype=pl.Utf8),\n",
    "            \"count\": pl.Series([], dtype=pl.Int64),\n",
    "            \"base_sum\": pl.Series([], dtype=pl.Float64),\n",
    "            \"quote_sum\": pl.Series([], dtype=pl.Float64),\n",
    "            \"avg_price\": pl.Series([], dtype=pl.Float64),\n",
    "            \"avg_size\": pl.Series([], dtype=pl.Float64),\n",
    "        })\n",
    "\n",
    "    df = pl.DataFrame({\n",
    "        \"time\":     [t[\"time\"] for t in trades],           # ms\n",
    "        \"price\":    [float(t[\"price\"]) for t in trades],\n",
    "        \"qty\":      [float(t[\"qty\"]) for t in trades],\n",
    "        \"quoteQty\": [float(t.get(\"quoteQty\", 0.0)) for t in trades],\n",
    "        \"isBuyerMaker\": [bool(t[\"isBuyerMaker\"]) for t in trades],\n",
    "        \"isBestMatch\": [bool(t.get(\"isBestMatch\", False)) for t in trades],\n",
    "    }).with_columns([\n",
    "        # m=False -> buyer is taker -> TAKER BUY\n",
    "        # m=True  -> buyer is maker -> TAKER SELL\n",
    "        pl.when(pl.col(\"isBuyerMaker\") == False)\n",
    "          .then(pl.lit(\"TAKER_BUY\")).otherwise(pl.lit(\"TAKER_SELL\")).alias(\"side\"),\n",
    "        (pl.col(\"price\") * pl.col(\"qty\")).alias(\"quote\"),\n",
    "        pl.from_epoch(pl.col(\"time\")/1000, time_unit=\"s\").alias(\"ts\"),\n",
    "    ])\n",
    "\n",
    "    summary = (df.group_by(\"side\")\n",
    "                 .agg([\n",
    "                     pl.count().alias(\"count\"),\n",
    "                     pl.col(\"qty\").sum().alias(\"base_sum\"),\n",
    "                     pl.col(\"quote\").sum().alias(\"quote_sum\"),\n",
    "                     pl.col(\"price\").mean().alias(\"avg_price\"),\n",
    "                     pl.col(\"qty\").mean().alias(\"avg_size\"),\n",
    "                 ])\n",
    "                 .sort(\"side\"))\n",
    "    return summary\n",
    "\n",
    "\n"
   ]
  },
  {
   "cell_type": "code",
   "execution_count": 4,
   "id": "26f5ba7a",
   "metadata": {},
   "outputs": [
    {
     "name": "stdout",
     "output_type": "stream",
     "text": [
      "\n",
      "=== BNBUSDT | recentTrades: 1000 rows ===\n",
      "id=1174731265 time=2025-09-25T11:25:28.713000+00:00 price=983.82000000 qty=0.00600000 quoteQty=5.90292000 isBuyerMaker=True isBestMatch=True\n",
      "id=1174731266 time=2025-09-25T11:25:28.713000+00:00 price=983.82000000 qty=0.00600000 quoteQty=5.90292000 isBuyerMaker=True isBestMatch=True\n",
      "id=1174731267 time=2025-09-25T11:25:28.713000+00:00 price=983.82000000 qty=0.13200000 quoteQty=129.86424000 isBuyerMaker=True isBestMatch=True\n",
      "id=1174731268 time=2025-09-25T11:25:28.734000+00:00 price=983.83000000 qty=0.01700000 quoteQty=16.72511000 isBuyerMaker=False isBestMatch=True\n",
      "id=1174731269 time=2025-09-25T11:25:28.945000+00:00 price=983.83000000 qty=0.05500000 quoteQty=54.11065000 isBuyerMaker=False isBestMatch=True\n",
      "\n",
      "-- Summary by taker side --\n",
      "shape: (2, 6)\n",
      "┌────────────┬───────┬──────────┬──────────────┬────────────┬──────────┐\n",
      "│ side       ┆ count ┆ base_sum ┆ quote_sum    ┆ avg_price  ┆ avg_size │\n",
      "│ ---        ┆ ---   ┆ ---      ┆ ---          ┆ ---        ┆ ---      │\n",
      "│ str        ┆ u32   ┆ f64      ┆ f64          ┆ f64        ┆ f64      │\n",
      "╞════════════╪═══════╪══════════╪══════════════╪════════════╪══════════╡\n",
      "│ TAKER_BUY  ┆ 651   ┆ 198.478  ┆ 195255.27502 ┆ 983.756421 ┆ 0.304882 │\n",
      "│ TAKER_SELL ┆ 349   ┆ 47.521   ┆ 46750.47497  ┆ 983.692464 ┆ 0.136163 │\n",
      "└────────────┴───────┴──────────┴──────────────┴────────────┴──────────┘\n"
     ]
    },
    {
     "name": "stderr",
     "output_type": "stream",
     "text": [
      "/tmp/ipykernel_224208/757862269.py:58: DeprecationWarning: `pl.count()` is deprecated. Please use `pl.len()` instead.\n",
      "(Deprecated in version 0.20.5)\n",
      "  pl.count().alias(\"count\"),\n"
     ]
    },
    {
     "name": "stdout",
     "output_type": "stream",
     "text": [
      "\n",
      "=== BTCUSDT | recentTrades: 1000 rows ===\n",
      "id=5256097039 time=2025-09-25T11:25:32.197000+00:00 price=111496.21000000 qty=0.00005000 quoteQty=5.57481050 isBuyerMaker=True isBestMatch=True\n",
      "id=5256097040 time=2025-09-25T11:25:32.197000+00:00 price=111496.21000000 qty=0.00005000 quoteQty=5.57481050 isBuyerMaker=True isBestMatch=True\n",
      "id=5256097041 time=2025-09-25T11:25:32.197000+00:00 price=111496.21000000 qty=0.00005000 quoteQty=5.57481050 isBuyerMaker=True isBestMatch=True\n",
      "id=5256097042 time=2025-09-25T11:25:32.197000+00:00 price=111496.21000000 qty=0.00005000 quoteQty=5.57481050 isBuyerMaker=True isBestMatch=True\n",
      "id=5256097043 time=2025-09-25T11:25:32.197000+00:00 price=111496.21000000 qty=0.00005000 quoteQty=5.57481050 isBuyerMaker=True isBestMatch=True\n",
      "\n",
      "-- Summary by taker side --\n",
      "shape: (2, 6)\n",
      "┌────────────┬───────┬──────────┬───────────────┬───────────────┬──────────┐\n",
      "│ side       ┆ count ┆ base_sum ┆ quote_sum     ┆ avg_price     ┆ avg_size │\n",
      "│ ---        ┆ ---   ┆ ---      ┆ ---           ┆ ---           ┆ ---      │\n",
      "│ str        ┆ u32   ┆ f64      ┆ f64           ┆ f64           ┆ f64      │\n",
      "╞════════════╪═══════╪══════════╪═══════════════╪═══════════════╪══════════╡\n",
      "│ TAKER_BUY  ┆ 364   ┆ 1.21625  ┆ 135583.554283 ┆ 111483.804835 ┆ 0.003341 │\n",
      "│ TAKER_SELL ┆ 636   ┆ 4.73083  ┆ 527436.577055 ┆ 111483.311022 ┆ 0.007438 │\n",
      "└────────────┴───────┴──────────┴───────────────┴───────────────┴──────────┘\n"
     ]
    }
   ],
   "source": [
    "\n",
    "# Load .env (không cần cho endpoint này, nhưng giữ thói quen nhất quán)\n",
    "load_dotenv()\n",
    "API_KEY = os.getenv(\"BINANCE_API_KEY\")\n",
    "SECRET  = os.getenv(\"BINANCE_SECRET_KEY\")\n",
    "\n",
    "# Bạn sửa danh sách symbol ở đây\n",
    "SYMBOLS = [\"BNBUSDT\", \"BTCUSDT\"]\n",
    "LIMIT   = 1000  # tối đa 1000\n",
    "\n",
    "for sym in SYMBOLS:\n",
    "    trades = fetch_recent_trades(sym, limit=LIMIT)\n",
    "    print(f\"\\n=== {sym} | recentTrades: {len(trades)} rows ===\")\n",
    "\n",
    "    # In 5 dòng raw để kiểm tra cấu trúc\n",
    "    for t in trades[:5]:\n",
    "        print(f\"id={t['id']} time={iso(t['time'])} price={t['price']} qty={t['qty']} \"\n",
    "                f\"quoteQty={t.get('quoteQty')} isBuyerMaker={t['isBuyerMaker']} isBestMatch={t.get('isBestMatch')}\")\n",
    "\n",
    "    # Tóm tắt BUY/SELL taker\n",
    "    summary = summarize_recent_trades(trades)\n",
    "    print(\"\\n-- Summary by taker side --\")\n",
    "    print(summary)"
   ]
  },
  {
   "cell_type": "code",
   "execution_count": null,
   "id": "306af379",
   "metadata": {},
   "outputs": [],
   "source": []
  },
  {
   "cell_type": "code",
   "execution_count": null,
   "id": "ad2e4972",
   "metadata": {},
   "outputs": [],
   "source": []
  },
  {
   "cell_type": "code",
   "execution_count": null,
   "id": "090f5bc2",
   "metadata": {},
   "outputs": [],
   "source": []
  },
  {
   "cell_type": "code",
   "execution_count": null,
   "id": "2766eb70",
   "metadata": {},
   "outputs": [],
   "source": []
  },
  {
   "cell_type": "code",
   "execution_count": null,
   "id": "45074e94",
   "metadata": {},
   "outputs": [],
   "source": []
  }
 ],
 "metadata": {
  "kernelspec": {
   "display_name": "cleanrl",
   "language": "python",
   "name": "python3"
  },
  "language_info": {
   "codemirror_mode": {
    "name": "ipython",
    "version": 3
   },
   "file_extension": ".py",
   "mimetype": "text/x-python",
   "name": "python",
   "nbconvert_exporter": "python",
   "pygments_lexer": "ipython3",
   "version": "3.10.18"
  }
 },
 "nbformat": 4,
 "nbformat_minor": 5
}
