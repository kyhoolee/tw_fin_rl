{
 "cells": [
  {
   "cell_type": "code",
   "execution_count": 1,
   "id": "d202ad52",
   "metadata": {},
   "outputs": [],
   "source": [
    "#!/usr/bin/env python3\n",
    "# -*- coding: utf-8 -*-\n",
    "\n",
    "\"\"\"\n",
    "Binance OHLCV Minute Data Explorer\n",
    "----------------------------------\n",
    "1) Load file CSV mới nhất cho mỗi symbol: {SYMBOL}_{candle_level}_*.csv\n",
    "2) Chuẩn hoá tên cột về schema thống nhất:\n",
    "   [\"open_time\",\"Open\",\"High\",\"Low\",\"Close\",\"Volume\",\"QuoteVolume\",\"Trades\",\n",
    "    \"TakerBuyBase\",\"TakerBuyQuote\"]\n",
    "3) Kiểm tra chất lượng dữ liệu: duplicates, NaN, giá âm/0, thiếu mốc thời gian (gaps)\n",
    "4) Thống kê cơ bản & enrich (returns, log-returns, rolling vol, dollar volume)\n",
    "5) Resample ví dụ (5m, 1h, 1d)\n",
    "6) Vẽ: Price+MA, Volume, Histogram log-returns, Corr heatmap giữa các symbol\n",
    "\"\"\"\n",
    "\n",
    "import os, glob, argparse\n",
    "from typing import Dict, List, Tuple\n",
    "import numpy as np\n",
    "import pandas as pd\n",
    "import matplotlib.pyplot as plt"
   ]
  },
  {
   "cell_type": "code",
   "execution_count": 2,
   "id": "c47c53de",
   "metadata": {},
   "outputs": [],
   "source": [
    "# ---------- CONFIG ----------\n",
    "DEFAULT_CANDLE = \"1m\"\n",
    "DEFAULT_DATA_DIR = f\"../../work/data/binance/spot/{DEFAULT_CANDLE}\"\n",
    "DEFAULT_SYMBOLS = [\"BTCUSDT\", \"ETHUSDT\", \"BNBUSDT\", \"SOLUSDT\"]\n",
    "OUT_DIR = \"./_out\"  # nơi lưu hình nếu --save-plots\n",
    "\n",
    "CANDLE_TO_NS = {\n",
    "    \"1m\": 60_000_000_000,\n",
    "    \"3m\": 3*60_000_000_000,\n",
    "    \"5m\": 5*60_000_000_000,\n",
    "    \"15m\": 15*60_000_000_000,\n",
    "    \"30m\": 30*60_000_000_000,\n",
    "    \"1h\": 60*60_000_000_000,\n",
    "    \"4h\": 4*60*60_000_000_000,\n",
    "    \"1d\": 24*60*60_000_000_000,\n",
    "}"
   ]
  },
  {
   "cell_type": "code",
   "execution_count": 3,
   "id": "29b5e811",
   "metadata": {},
   "outputs": [],
   "source": [
    "\n",
    "# ---------- I/O & NORMALIZE ----------\n",
    "\n",
    "def find_latest_file(sym: str, data_dir: str, candle_level: str) -> str:\n",
    "    pattern = os.path.join(data_dir, f\"{sym}_{candle_level}_*.csv\")\n",
    "    files = sorted(glob.glob(pattern))\n",
    "    assert files, f\"[ERROR] Không thấy file cho {sym} trong {data_dir} với pattern {os.path.basename(pattern)}\"\n",
    "    return files[-1]\n",
    "\n",
    "def normalize_columns(df: pd.DataFrame) -> pd.DataFrame:\n",
    "    rename_map = {\n",
    "        \"open\": \"Open\",\n",
    "        \"high\": \"High\",\n",
    "        \"low\": \"Low\",\n",
    "        \"close\": \"Close\",\n",
    "        \"volume\": \"Volume\",\n",
    "        \"quote_asset_volume\": \"QuoteVolume\",\n",
    "        \"number_of_trades\": \"Trades\",\n",
    "        \"taker_buy_base_asset_volume\": \"TakerBuyBase\",\n",
    "        \"taker_buy_quote_asset_volume\": \"TakerBuyQuote\",\n",
    "    }\n",
    "    if \"Open time\" in df.columns and \"open_time\" not in df.columns:\n",
    "        df = df.rename(columns={\"Open time\": \"open_time\"})\n",
    "    if \"open_time\" not in df.columns and \"open_time_ms\" in df.columns:\n",
    "        df[\"open_time\"] = pd.to_datetime(df[\"open_time_ms\"], unit=\"ms\", utc=True)\n",
    "    df = df.rename(columns=rename_map)\n",
    "    return df\n",
    "\n",
    "def ensure_schema(df: pd.DataFrame) -> pd.DataFrame:\n",
    "    core_required = [\"open_time\", \"Open\", \"High\", \"Low\", \"Close\", \"Volume\"]\n",
    "    for c in core_required:\n",
    "        assert c in df.columns, f\"[ERROR] Thiếu cột bắt buộc: {c}\"\n",
    "\n",
    "    if not np.issubdtype(df[\"open_time\"].dtype, np.datetime64):\n",
    "        df[\"open_time\"] = pd.to_datetime(df[\"open_time\"], errors=\"coerce\", utc=True)\n",
    "\n",
    "    df = df.sort_values(\"open_time\").reset_index(drop=True)\n",
    "\n",
    "    for c in df.columns:\n",
    "        if c in [\"Open\", \"High\", \"Low\", \"Close\", \"Volume\", \"QuoteVolume\", \"Trades\", \"TakerBuyBase\", \"TakerBuyQuote\"]:\n",
    "            df[c] = pd.to_numeric(df[c], errors=\"coerce\")\n",
    "    return df\n"
   ]
  },
  {
   "cell_type": "code",
   "execution_count": 4,
   "id": "bdf99c0c",
   "metadata": {},
   "outputs": [],
   "source": [
    "# ---------- ENRICH FEATURES ----------\n",
    "\n",
    "def enrich_features(df: pd.DataFrame, ret_horizons: List[int] = [1], roll_N: int = 60) -> pd.DataFrame:\n",
    "    df = df.copy()\n",
    "    # returns\n",
    "    df[\"Ret_1\"] = df[\"Close\"].pct_change()\n",
    "    df[\"LogRet_1\"] = np.log(df[\"Close\"]).diff()\n",
    "\n",
    "    # multi-horizon (optional; forward returns để xem ACE baseline)\n",
    "    for h in ret_horizons:\n",
    "        if h <= 0: continue\n",
    "        df[f\"FwdLogRet_{h}\"] = np.log(df[\"Close\"]).shift(-h) - np.log(df[\"Close\"])\n",
    "\n",
    "    # rolling vol (realized)\n",
    "    df[\"RollVol_{}\".format(roll_N)] = df[\"LogRet_1\"].rolling(roll_N, min_periods=roll_N//3).std() * np.sqrt(roll_N)\n",
    "\n",
    "    # dollar volume (xấp xỉ)\n",
    "    if \"QuoteVolume\" in df.columns and df[\"QuoteVolume\"].notna().any():\n",
    "        df[\"DollarVol\"] = df[\"QuoteVolume\"]\n",
    "    else:\n",
    "        df[\"DollarVol\"] = df[\"Close\"] * df[\"Volume\"]\n",
    "    return df"
   ]
  },
  {
   "cell_type": "code",
   "execution_count": 5,
   "metadata": {},
   "outputs": [],
   "source": [
    "# ---------- RESAMPLE ----------\n",
    "\n",
    "def resample_ohlcv(df: pd.DataFrame, rule: str) -> pd.DataFrame:\n",
    "    \"\"\"\n",
    "    Resample OHLCV theo rule (vd: '5T','1H','1D'). open_time làm index.\n",
    "    \"\"\"\n",
    "    x = df.set_index(\"open_time\")\n",
    "    agg = {\n",
    "        \"Open\": \"first\",\n",
    "        \"High\": \"max\",\n",
    "        \"Low\": \"min\",\n",
    "        \"Close\": \"last\",\n",
    "        \"Volume\": \"sum\",\n",
    "    }\n",
    "    if \"QuoteVolume\" in x.columns: agg[\"QuoteVolume\"] = \"sum\"\n",
    "    if \"Trades\" in x.columns: agg[\"Trades\"] = \"sum\"\n",
    "    if \"TakerBuyBase\" in x.columns: agg[\"TakerBuyBase\"] = \"sum\"\n",
    "    if \"TakerBuyQuote\" in x.columns: agg[\"TakerBuyQuote\"] = \"sum\"\n",
    "    y = x.resample(rule, label=\"right\", closed=\"right\").agg(agg).dropna(subset=[\"Open\",\"High\",\"Low\",\"Close\"])\n",
    "    y = y.reset_index()\n",
    "    return y"
   ]
  },
  {
   "cell_type": "code",
   "execution_count": 6,
   "id": "5c9a5b5d",
   "metadata": {},
   "outputs": [],
   "source": [
    "# ---------- PLOTS ----------\n",
    "\n",
    "def ensure_outdir(save_plots: bool, out_dir: str):\n",
    "    if save_plots and not os.path.isdir(out_dir):\n",
    "        os.makedirs(out_dir, exist_ok=True)\n",
    "\n",
    "def plot_price_ma(df: pd.DataFrame, sym: str, save: bool):\n",
    "    plt.figure(figsize=(10,4))\n",
    "    plt.plot(df[\"open_time\"], df[\"Close\"], label=\"Close\")\n",
    "    if len(df) > 100:\n",
    "        ma_fast = df[\"Close\"].rolling(20).mean()\n",
    "        ma_slow = df[\"Close\"].rolling(100).mean()\n",
    "        plt.plot(df[\"open_time\"], ma_fast, label=\"MA20\")\n",
    "        plt.plot(df[\"open_time\"], ma_slow, label=\"MA100\")\n",
    "    plt.title(f\"{sym} - Price & MA\")\n",
    "    plt.legend(); plt.tight_layout()\n",
    "    if save:\n",
    "        plt.savefig(os.path.join(OUT_DIR, f\"{sym}_price_ma.png\"))\n",
    "    else:\n",
    "        plt.show()\n",
    "    plt.close()\n",
    "\n",
    "def plot_volume(df: pd.DataFrame, sym: str, save: bool):\n",
    "    plt.figure(figsize=(10,3))\n",
    "    plt.plot(df[\"open_time\"], df[\"DollarVol\"], label=\"DollarVol\")\n",
    "    plt.title(f\"{sym} - Dollar Volume\")\n",
    "    plt.tight_layout()\n",
    "    if save:\n",
    "        plt.savefig(os.path.join(OUT_DIR, f\"{sym}_dollarvol.png\"))\n",
    "    else:\n",
    "        plt.show()\n",
    "    plt.close()\n",
    "\n",
    "def plot_logret_hist(df: pd.DataFrame, sym: str, save: bool):\n",
    "    plt.figure(figsize=(6,4))\n",
    "    x = df[\"LogRet_1\"].dropna().clip(lower=-0.2, upper=0.2)  # tránh outlier phá biểu đồ\n",
    "    plt.hist(x.values, bins=100, density=True)\n",
    "    plt.title(f\"{sym} - Histogram(LogRet_1)\")\n",
    "    plt.tight_layout()\n",
    "    if save:\n",
    "        plt.savefig(os.path.join(OUT_DIR, f\"{sym}_logret_hist.png\"))\n",
    "    else:\n",
    "        plt.show()\n",
    "    plt.close()\n",
    "\n",
    "def plot_corr_heatmap(close_by_sym: Dict[str, pd.Series], save: bool):\n",
    "    # tính corr của LogRet_1 giữa các symbol\n",
    "    df = pd.DataFrame({s: np.log(v).diff() for s, v in close_by_sym.items()}).dropna(how=\"any\")\n",
    "    corr = df.corr()\n",
    "    plt.figure(figsize=(5+0.6*len(corr), 4+0.4*len(corr)))\n",
    "    im = plt.imshow(corr.values, interpolation=\"nearest\")\n",
    "    plt.colorbar(im, fraction=0.046, pad=0.04)\n",
    "    plt.xticks(range(len(corr)), corr.columns, rotation=45, ha=\"right\")\n",
    "    plt.yticks(range(len(corr)), corr.index)\n",
    "    plt.title(\"Log-Return Correlation Heatmap\")\n",
    "    plt.tight_layout()\n",
    "    if save:\n",
    "        plt.savefig(os.path.join(OUT_DIR, f\"corr_heatmap.png\"))\n",
    "    else:\n",
    "        plt.show()\n",
    "    plt.close()"
   ]
  },
  {
   "cell_type": "code",
   "execution_count": null,
   "id": "087cae81",
   "metadata": {},
   "outputs": [
    {
     "data": {
      "text/plain": [
       "Namespace(data_dir='../../work/data/binance/spot/1m', candle_level='1m', symbols=['BTCUSDT', 'ETHUSDT', 'BNBUSDT', 'SOLUSDT'], save_plots=True, resample=['5T', '1H', '1D'], show_qc=True)"
      ]
     },
     "execution_count": 8,
     "metadata": {},
     "output_type": "execute_result"
    }
   ],
   "source": []
  },
  {
   "cell_type": "code",
   "execution_count": 9,
   "id": "cb168958",
   "metadata": {},
   "outputs": [],
   "source": [
    "# ---------- QUALITY CHECKS ----------\n",
    "\n",
    "def qc_report(df: pd.DataFrame, candle_level: str) -> Dict[str, int]:\n",
    "    rep = {}\n",
    "    rep[\"rows\"] = len(df)\n",
    "    rep[\"dupe_open_time\"] = int(df[\"open_time\"].duplicated().sum())\n",
    "    rep[\"n_nan_any\"] = int(df.isna().any(axis=1).sum())\n",
    "    rep[\"n_nan_price\"] = int(df[[\"Open\",\"High\",\"Low\",\"Close\"]].isna().any(axis=1).sum())\n",
    "    rep[\"n_zero_or_neg_price\"] = int(((df[[\"Open\",\"High\",\"Low\",\"Close\"]] <= 0).any(axis=1)).sum())\n",
    "\n",
    "    # gaps: mong đợi sai khác open_time đều nhau theo candle\n",
    "    if len(df) > 1:\n",
    "        deltas = df[\"open_time\"].view(\"int64\").diff().dropna()  # ns\n",
    "        expect = CANDLE_TO_NS[candle_level]\n",
    "        rep[\"gaps\"] = int((deltas != expect).sum())\n",
    "    else:\n",
    "        rep[\"gaps\"] = 0\n",
    "    return rep"
   ]
  },
  {
   "cell_type": "code",
   "execution_count": 10,
   "id": "3da006ec",
   "metadata": {},
   "outputs": [],
   "source": [
    "def main(args):\n",
    "\n",
    "    ensure_outdir(args.save_plots, OUT_DIR)\n",
    "\n",
    "    per_symbol: Dict[str, pd.DataFrame] = {}\n",
    "    close_by_sym: Dict[str, pd.Series] = {}\n",
    "\n",
    "    print(f\"[INFO] Loading symbols: {args.symbols} from {args.data_dir} ({args.candle_level})\")\n",
    "\n",
    "    for sym in args.symbols:\n",
    "        path = find_latest_file(sym, args.data_dir, args.candle_level)\n",
    "        df = pd.read_csv(path)\n",
    "        df = normalize_columns(df)\n",
    "        df = ensure_schema(df)\n",
    "\n",
    "        qc = qc_report(df, args.candle_level)\n",
    "        if args.show_qc:\n",
    "            print(f\"[QC] {sym}: {qc}\")\n",
    "\n",
    "        df = enrich_features(df, ret_horizons=[1, 5, 15, 60], roll_N=60)\n",
    "        per_symbol[sym] = df\n",
    "        close_by_sym[sym] = df.set_index(\"open_time\")[\"Close\"]\n",
    "\n",
    "        # plots per-symbol\n",
    "        plot_price_ma(df, sym, args.save_plots)\n",
    "        plot_volume(df, sym, args.save_plots)\n",
    "        plot_logret_hist(df, sym, args.save_plots)\n",
    "\n",
    "        # demo resample\n",
    "        for rule in args.resample:\n",
    "            r = resample_ohlcv(df, rule)\n",
    "            if args.save_plots:\n",
    "                # Lưu CSV resample demo (tuỳ nhu cầu)\n",
    "                outp = os.path.join(OUT_DIR, f\"{sym}_resample_{rule}.csv\")\n",
    "                r.to_csv(outp, index=False)\n",
    "\n",
    "    # multi-symbol corr\n",
    "    if len(close_by_sym) >= 2:\n",
    "        plot_corr_heatmap(close_by_sym, args.save_plots)\n",
    "\n",
    "    print(\"[DONE] Explorer hoàn tất. Xem hình ở\", OUT_DIR if args.save_plots else \"on-screen.\")\n"
   ]
  },
  {
   "cell_type": "code",
   "execution_count": 12,
   "id": "27e4d3c3",
   "metadata": {},
   "outputs": [
    {
     "data": {
      "text/plain": [
       "Namespace(data_dir='../../../work/data/binance/spot/1m', candle_level='1m', symbols=['BTCUSDT', 'ETHUSDT', 'BNBUSDT', 'SOLUSDT'], save_plots=True, resample=['5T', '1H', '1D'], show_qc=True)"
      ]
     },
     "execution_count": 12,
     "metadata": {},
     "output_type": "execute_result"
    }
   ],
   "source": [
    "import argparse\n",
    "\n",
    "ap = argparse.ArgumentParser()\n",
    "ap.add_argument(\"--data-dir\", type=str, default=DEFAULT_DATA_DIR)\n",
    "ap.add_argument(\"--candle-level\", type=str, default=DEFAULT_CANDLE, choices=CANDLE_TO_NS.keys())\n",
    "ap.add_argument(\"--symbols\", nargs=\"+\", default=DEFAULT_SYMBOLS)\n",
    "ap.add_argument(\"--save-plots\", action=\"store_true\")\n",
    "ap.add_argument(\"--resample\", nargs=\"*\", default=[\"5T\",\"1H\",\"1D\"])\n",
    "ap.add_argument(\"--show-qc\", action=\"store_true\")\n",
    "\n",
    "args = ap.parse_args([\n",
    "    \"--data-dir\", \"../../../work/data/binance/spot/1m\",\n",
    "    \"--candle-level\", \"1m\",\n",
    "    \"--symbols\", \"BTCUSDT\", \"ETHUSDT\", \"BNBUSDT\", \"SOLUSDT\",\n",
    "    \"--save-plots\",\n",
    "    \"--resample\", \"5T\", \"1H\", \"1D\",\n",
    "    \"--show-qc\",\n",
    "])\n",
    "\n",
    "args\n"
   ]
  },
  {
   "cell_type": "code",
   "execution_count": 13,
   "id": "07af9917",
   "metadata": {},
   "outputs": [
    {
     "name": "stdout",
     "output_type": "stream",
     "text": [
      "[INFO] Loading symbols: ['BTCUSDT', 'ETHUSDT', 'BNBUSDT', 'SOLUSDT'] from ../../../work/data/binance/spot/1m (1m)\n"
     ]
    },
    {
     "name": "stderr",
     "output_type": "stream",
     "text": [
      "/tmp/ipykernel_176620/2308189164.py:13: FutureWarning: Series.view is deprecated and will be removed in a future version. Use ``astype`` as an alternative to change the dtype.\n",
      "  deltas = df[\"open_time\"].view(\"int64\").diff().dropna()  # ns\n"
     ]
    },
    {
     "name": "stdout",
     "output_type": "stream",
     "text": [
      "[QC] BTCUSDT: {'rows': 3507322, 'dupe_open_time': 0, 'n_nan_any': 0, 'n_nan_price': 0, 'n_zero_or_neg_price': 0, 'gaps': 22}\n"
     ]
    },
    {
     "name": "stderr",
     "output_type": "stream",
     "text": [
      "/tmp/ipykernel_176620/3436263055.py:16: UserWarning: Creating legend with loc=\"best\" can be slow with large amounts of data.\n",
      "  plt.legend(); plt.tight_layout()\n",
      "/tmp/ipykernel_176620/3436263055.py:18: UserWarning: Creating legend with loc=\"best\" can be slow with large amounts of data.\n",
      "  plt.savefig(os.path.join(OUT_DIR, f\"{sym}_price_ma.png\"))\n",
      "/tmp/ipykernel_176620/4132427089.py:19: FutureWarning: 'T' is deprecated and will be removed in a future version, please use 'min' instead.\n",
      "  y = x.resample(rule, label=\"right\", closed=\"right\").agg(agg).dropna(subset=[\"Open\",\"High\",\"Low\",\"Close\"])\n",
      "/tmp/ipykernel_176620/4132427089.py:19: FutureWarning: 'H' is deprecated and will be removed in a future version, please use 'h' instead.\n",
      "  y = x.resample(rule, label=\"right\", closed=\"right\").agg(agg).dropna(subset=[\"Open\",\"High\",\"Low\",\"Close\"])\n",
      "/tmp/ipykernel_176620/2308189164.py:13: FutureWarning: Series.view is deprecated and will be removed in a future version. Use ``astype`` as an alternative to change the dtype.\n",
      "  deltas = df[\"open_time\"].view(\"int64\").diff().dropna()  # ns\n"
     ]
    },
    {
     "name": "stdout",
     "output_type": "stream",
     "text": [
      "[QC] ETHUSDT: {'rows': 3507344, 'dupe_open_time': 0, 'n_nan_any': 0, 'n_nan_price': 0, 'n_zero_or_neg_price': 0, 'gaps': 22}\n"
     ]
    },
    {
     "name": "stderr",
     "output_type": "stream",
     "text": [
      "/tmp/ipykernel_176620/3436263055.py:16: UserWarning: Creating legend with loc=\"best\" can be slow with large amounts of data.\n",
      "  plt.legend(); plt.tight_layout()\n",
      "/tmp/ipykernel_176620/3436263055.py:18: UserWarning: Creating legend with loc=\"best\" can be slow with large amounts of data.\n",
      "  plt.savefig(os.path.join(OUT_DIR, f\"{sym}_price_ma.png\"))\n",
      "/tmp/ipykernel_176620/4132427089.py:19: FutureWarning: 'T' is deprecated and will be removed in a future version, please use 'min' instead.\n",
      "  y = x.resample(rule, label=\"right\", closed=\"right\").agg(agg).dropna(subset=[\"Open\",\"High\",\"Low\",\"Close\"])\n",
      "/tmp/ipykernel_176620/4132427089.py:19: FutureWarning: 'H' is deprecated and will be removed in a future version, please use 'h' instead.\n",
      "  y = x.resample(rule, label=\"right\", closed=\"right\").agg(agg).dropna(subset=[\"Open\",\"High\",\"Low\",\"Close\"])\n",
      "/tmp/ipykernel_176620/2308189164.py:13: FutureWarning: Series.view is deprecated and will be removed in a future version. Use ``astype`` as an alternative to change the dtype.\n",
      "  deltas = df[\"open_time\"].view(\"int64\").diff().dropna()  # ns\n"
     ]
    },
    {
     "name": "stdout",
     "output_type": "stream",
     "text": [
      "[QC] BNBUSDT: {'rows': 3507365, 'dupe_open_time': 0, 'n_nan_any': 0, 'n_nan_price': 0, 'n_zero_or_neg_price': 0, 'gaps': 22}\n"
     ]
    },
    {
     "name": "stderr",
     "output_type": "stream",
     "text": [
      "/tmp/ipykernel_176620/3436263055.py:18: UserWarning: Creating legend with loc=\"best\" can be slow with large amounts of data.\n",
      "  plt.savefig(os.path.join(OUT_DIR, f\"{sym}_price_ma.png\"))\n",
      "/tmp/ipykernel_176620/4132427089.py:19: FutureWarning: 'T' is deprecated and will be removed in a future version, please use 'min' instead.\n",
      "  y = x.resample(rule, label=\"right\", closed=\"right\").agg(agg).dropna(subset=[\"Open\",\"High\",\"Low\",\"Close\"])\n",
      "/tmp/ipykernel_176620/4132427089.py:19: FutureWarning: 'H' is deprecated and will be removed in a future version, please use 'h' instead.\n",
      "  y = x.resample(rule, label=\"right\", closed=\"right\").agg(agg).dropna(subset=[\"Open\",\"High\",\"Low\",\"Close\"])\n",
      "/tmp/ipykernel_176620/2308189164.py:13: FutureWarning: Series.view is deprecated and will be removed in a future version. Use ``astype`` as an alternative to change the dtype.\n",
      "  deltas = df[\"open_time\"].view(\"int64\").diff().dropna()  # ns\n"
     ]
    },
    {
     "name": "stdout",
     "output_type": "stream",
     "text": [
      "[QC] SOLUSDT: {'rows': 2662968, 'dupe_open_time': 0, 'n_nan_any': 0, 'n_nan_price': 0, 'n_zero_or_neg_price': 0, 'gaps': 10}\n"
     ]
    },
    {
     "name": "stderr",
     "output_type": "stream",
     "text": [
      "/tmp/ipykernel_176620/3436263055.py:16: UserWarning: Creating legend with loc=\"best\" can be slow with large amounts of data.\n",
      "  plt.legend(); plt.tight_layout()\n",
      "/tmp/ipykernel_176620/3436263055.py:18: UserWarning: Creating legend with loc=\"best\" can be slow with large amounts of data.\n",
      "  plt.savefig(os.path.join(OUT_DIR, f\"{sym}_price_ma.png\"))\n",
      "/tmp/ipykernel_176620/4132427089.py:19: FutureWarning: 'T' is deprecated and will be removed in a future version, please use 'min' instead.\n",
      "  y = x.resample(rule, label=\"right\", closed=\"right\").agg(agg).dropna(subset=[\"Open\",\"High\",\"Low\",\"Close\"])\n",
      "/tmp/ipykernel_176620/4132427089.py:19: FutureWarning: 'H' is deprecated and will be removed in a future version, please use 'h' instead.\n",
      "  y = x.resample(rule, label=\"right\", closed=\"right\").agg(agg).dropna(subset=[\"Open\",\"High\",\"Low\",\"Close\"])\n"
     ]
    },
    {
     "name": "stdout",
     "output_type": "stream",
     "text": [
      "[DONE] Explorer hoàn tất. Xem hình ở ./_out\n"
     ]
    }
   ],
   "source": [
    "main(args)"
   ]
  },
  {
   "cell_type": "code",
   "execution_count": null,
   "id": "d848853e",
   "metadata": {},
   "outputs": [],
   "source": []
  },
  {
   "cell_type": "code",
   "execution_count": null,
   "metadata": {},
   "outputs": [],
   "source": []
  },
  {
   "cell_type": "code",
   "execution_count": null,
   "id": "4d5122bc",
   "metadata": {},
   "outputs": [],
   "source": []
  },
  {
   "cell_type": "code",
   "execution_count": null,
   "id": "972e0ac7",
   "metadata": {},
   "outputs": [],
   "source": []
  },
  {
   "cell_type": "code",
   "execution_count": null,
   "metadata": {},
   "outputs": [],
   "source": []
  },
  {
   "cell_type": "code",
   "execution_count": null,
   "id": "6048cc12",
   "metadata": {},
   "outputs": [],
   "source": []
  },
  {
   "cell_type": "code",
   "execution_count": null,
   "id": "299991e6",
   "metadata": {},
   "outputs": [],
   "source": []
  },
  {
   "cell_type": "code",
   "execution_count": null,
   "metadata": {},
   "outputs": [],
   "source": []
  },
  {
   "cell_type": "code",
   "execution_count": null,
   "id": "a71441c4",
   "metadata": {},
   "outputs": [],
   "source": []
  },
  {
   "cell_type": "code",
   "execution_count": null,
   "metadata": {},
   "outputs": [],
   "source": []
  },
  {
   "cell_type": "code",
   "execution_count": null,
   "id": "be575ea3",
   "metadata": {},
   "outputs": [],
   "source": []
  },
  {
   "cell_type": "code",
   "execution_count": null,
   "id": "9a6c7ba1",
   "metadata": {},
   "outputs": [],
   "source": []
  }
 ],
 "metadata": {
  "kernelspec": {
   "display_name": "Python (fin_rl)",
   "language": "python",
   "name": "fin_rl"
  },
  "language_info": {
   "codemirror_mode": {
    "name": "ipython",
    "version": 3
   },
   "file_extension": ".py",
   "mimetype": "text/x-python",
   "name": "python",
   "nbconvert_exporter": "python",
   "pygments_lexer": "ipython3",
   "version": "3.10.18"
  }
 },
 "nbformat": 4,
 "nbformat_minor": 5
}
