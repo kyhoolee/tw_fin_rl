{
 "cells": [
  {
   "cell_type": "code",
   "execution_count": 1,
   "id": "be556c66",
   "metadata": {},
   "outputs": [],
   "source": [
    "from fin_rl.agent.baseline._0_portfolio_baseline import load_tensor_safe\n",
    "root_folder = '../../../'"
   ]
  },
  {
   "cell_type": "code",
   "execution_count": 3,
   "id": "b9dc6b56",
   "metadata": {},
   "outputs": [
    {
     "name": "stdout",
     "output_type": "stream",
     "text": [
      "[load_tensor_safe] Loaded (2102404, 13) from ../../../work/bundle_out/bundles/v1_minutes/bundle_01/splits/test.parquet\n",
      "[load_tensor_safe] N=4 symbols, F=5 features, strict=True, return_mask=False\n",
      "[load_tensor_safe] Data blocks ready: [(525601, 5), (525601, 5), (525601, 5), (525601, 5)]\n",
      "[load_tensor_safe] Tensor x ready: (525601, 4, 5), dtype=float32\n",
      "[load_tensor_safe] Mask ready: (525601, 4, 5), dtype=bool, n_valid=10512020\n",
      "[load_tensor_safe] Times ready: 525601 timestamps from 2024-01-01 00:00:00+00:00 to 2024-12-31 00:00:00+00:00\n"
     ]
    }
   ],
   "source": [
    "x, ts, syms, feats, masks = load_tensor_safe(\n",
    "        split_path=f'{root_folder}work/bundle_out/bundles/v1_minutes/bundle_01/splits/test.parquet', \n",
    "        features=(\"Open\",\"High\",\"Low\",\"Close\",\"Volume\")\n",
    "    )\n"
   ]
  },
  {
   "cell_type": "code",
   "execution_count": null,
   "id": "381275bf",
   "metadata": {},
   "outputs": [],
   "source": []
  },
  {
   "cell_type": "code",
   "execution_count": null,
   "id": "c6ff7e35",
   "metadata": {},
   "outputs": [],
   "source": []
  },
  {
   "cell_type": "code",
   "execution_count": null,
   "id": "c2bac991",
   "metadata": {},
   "outputs": [],
   "source": []
  },
  {
   "cell_type": "code",
   "execution_count": null,
   "id": "50695153",
   "metadata": {},
   "outputs": [],
   "source": []
  }
 ],
 "metadata": {
  "kernelspec": {
   "display_name": "Python (fin_rl)",
   "language": "python",
   "name": "fin_rl"
  },
  "language_info": {
   "codemirror_mode": {
    "name": "ipython",
    "version": 3
   },
   "file_extension": ".py",
   "mimetype": "text/x-python",
   "name": "python",
   "nbconvert_exporter": "python",
   "pygments_lexer": "ipython3",
   "version": "3.10.18"
  }
 },
 "nbformat": 4,
 "nbformat_minor": 5
}
