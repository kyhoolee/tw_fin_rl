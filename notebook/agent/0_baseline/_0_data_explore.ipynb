{
 "cells": [
  {
   "cell_type": "code",
   "execution_count": 1,
   "id": "be556c66",
   "metadata": {},
   "outputs": [],
   "source": [
    "from fin_rl.agent.baseline._0_portfolio_baseline import load_tensor_safe\n",
    "from fin_rl.agent.baseline._1_baseline import (\n",
    "    FEE_BPS, SLIPPAGE_BPS,\n",
    "    run_all_baselines, pretty_print_summary,\n",
    "    trace_first_rebals\n",
    ")\n",
    "\n",
    "\n",
    "\n",
    "root_folder = '../../../'"
   ]
  },
  {
   "cell_type": "code",
   "execution_count": 2,
   "id": "b9dc6b56",
   "metadata": {},
   "outputs": [
    {
     "name": "stdout",
     "output_type": "stream",
     "text": [
      "[load_tensor_safe] Loaded (7117904, 13) from ../../../work/bundle_out/bundles/v1_minutes/bundle_01/splits/train.parquet\n",
      "[load_tensor_safe] N=4 symbols, F=5 features, strict=True, return_mask=True\n",
      "[load_tensor_safe] Data blocks ready: [(1779476, 5), (1779476, 5), (1779476, 5), (1779476, 5)]\n",
      "[load_tensor_safe] Tensor x ready: (1779476, 4, 5), dtype=float32\n",
      "[load_tensor_safe] Mask ready: (1779476, 4, 5), dtype=bool, n_valid=35589520\n",
      "[load_tensor_safe] Times ready: 1779476 timestamps from 2020-08-11 06:00:00+00:00 to 2023-12-31 00:00:00+00:00\n",
      "== SUMMARY (after fees) ==\n",
      "+---------------------+----------+---------+---------+---------+----------+---------+-------------+-----------+\n",
      "|            Strategy | TotalRet |  AnnRet |  AnnVol |  Sharpe |    MaxDD |  Calmar | AvgTurnover | TotalFees |\n",
      "+---------------------+----------+---------+---------+---------+----------+---------+-------------+-----------+\n",
      "|          buyhold_eq | 13.8247f | 2.4830f | 0.9503f | 1.3131f | -0.8678f | 2.8613f |     0.0000f |   0.0008f |\n",
      "|            ew_daily | 16.0793f | 2.3163f | 0.8493f | 1.4115f | -0.8226f | 2.8158f |     0.0194f |   0.0180f |\n",
      "| xmom_L60_top2_daily |  2.5743f | 1.2495f | 0.9324f | 0.8694f | -0.9206f | 1.3572f |     1.0395f |   0.9652f |\n",
      "+---------------------+----------+---------+---------+---------+----------+---------+-------------+-----------+\n",
      "\n",
      "== TRACE first 10 rebalances ==\n",
      "2020-08-11 06:00:00+00:00  turnover=1.0000  fee=0.000750  step_ret=-0.000750\n",
      "2020-08-12 00:00:00+00:00  turnover=0.0744  fee=0.000056  step_ret=-0.001614\n",
      "2020-08-13 00:00:00+00:00  turnover=0.0442  fee=0.000033  step_ret=-0.000332\n",
      "2020-08-14 00:00:00+00:00  turnover=0.0321  fee=0.000024  step_ret=+0.003195\n",
      "2020-08-15 00:00:00+00:00  turnover=0.0452  fee=0.000034  step_ret=+0.001810\n",
      "2020-08-16 00:00:00+00:00  turnover=0.0258  fee=0.000019  step_ret=+0.000196\n",
      "2020-08-17 00:00:00+00:00  turnover=0.0216  fee=0.000016  step_ret=+0.001438\n",
      "2020-08-18 00:00:00+00:00  turnover=0.0342  fee=0.000026  step_ret=+0.000342\n",
      "2020-08-19 00:00:00+00:00  turnover=0.0366  fee=0.000027  step_ret=+0.002212\n",
      "2020-08-20 00:00:00+00:00  turnover=0.0438  fee=0.000033  step_ret=+0.001793\n"
     ]
    }
   ],
   "source": [
    "ds_type = 'train'  # 'train', 'test', 'unseen'\n",
    "\n",
    "x, ts, syms, feats, masks = load_tensor_safe(\n",
    "        split_path=f'{root_folder}work/bundle_out/bundles/v1_minutes/bundle_01/splits/{ds_type}.parquet', \n",
    "        features=(\"Open\",\"High\",\"Low\",\"Close\",\"Volume\"),\n",
    "        return_mask=True\n",
    "    )\n",
    "\n",
    "# Giả sử bạn đã có x, ts, syms, feats, masks như log:\n",
    "rep = run_all_baselines(\n",
    "    x, ts, syms, feats, masks, \n",
    "    fee_bps=7.5, slippage_bps=0.0, verbose=False)\n",
    "pretty_print_summary(rep)\n",
    "\n",
    "# Trace chi tiết một chiến lược:\n",
    "trace_first_rebals(rep[\"ts\"], rep[\"raw\"][\"ew_daily\"], n_events=10)\n",
    "\n",
    "# Lấy đường vốn / trọng số để vẽ:\n",
    "equity = rep[\"raw\"][\"xmom_L60_top2_daily\"].equity   # [T]\n",
    "weights = rep[\"raw\"][\"xmom_L60_top2_daily\"].weights # [T,N]\n",
    "\n"
   ]
  },
  {
   "cell_type": "code",
   "execution_count": 3,
   "id": "381275bf",
   "metadata": {},
   "outputs": [
    {
     "name": "stdout",
     "output_type": "stream",
     "text": [
      "[load_tensor_safe] Loaded (2102404, 13) from ../../../work/bundle_out/bundles/v1_minutes/bundle_01/splits/test.parquet\n",
      "[load_tensor_safe] N=4 symbols, F=5 features, strict=True, return_mask=True\n",
      "[load_tensor_safe] Data blocks ready: [(525601, 5), (525601, 5), (525601, 5), (525601, 5)]\n",
      "[load_tensor_safe] Tensor x ready: (525601, 4, 5), dtype=float32\n",
      "[load_tensor_safe] Mask ready: (525601, 4, 5), dtype=bool, n_valid=10512020\n",
      "[load_tensor_safe] Times ready: 525601 timestamps from 2024-01-01 00:00:00+00:00 to 2024-12-31 00:00:00+00:00\n",
      "== SUMMARY (after fees) ==\n",
      "+---------------------+----------+---------+---------+---------+----------+---------+-------------+-----------+\n",
      "|            Strategy | TotalRet |  AnnRet |  AnnVol |  Sharpe |    MaxDD |  Calmar | AvgTurnover | TotalFees |\n",
      "+---------------------+----------+---------+---------+---------+----------+---------+-------------+-----------+\n",
      "|          buyhold_eq |  0.9504f | 1.3575f | 0.6156f | 1.3931f | -0.3893f | 3.4869f |     0.0000f |   0.0008f |\n",
      "|            ew_daily |  1.0242f | 1.4534f | 0.6200f | 1.4476f | -0.3831f | 3.7933f |     0.0153f |   0.0042f |\n",
      "| xmom_L60_top2_daily |  0.7392f | 1.1369f | 0.6415f | 1.1836f | -0.3663f | 3.1034f |     1.0231f |   0.2808f |\n",
      "+---------------------+----------+---------+---------+---------+----------+---------+-------------+-----------+\n",
      "\n",
      "== TRACE first 10 rebalances ==\n",
      "2024-01-01 00:00:00+00:00  turnover=1.0000  fee=0.000750  step_ret=-0.000750\n",
      "2024-01-02 00:00:00+00:00  turnover=0.0216  fee=0.000016  step_ret=-0.002007\n",
      "2024-01-03 00:00:00+00:00  turnover=0.0130  fee=0.000010  step_ret=+0.001177\n",
      "2024-01-04 00:00:00+00:00  turnover=0.0288  fee=0.000022  step_ret=-0.000038\n",
      "2024-01-05 00:00:00+00:00  turnover=0.0136  fee=0.000010  step_ret=+0.000568\n",
      "2024-01-06 00:00:00+00:00  turnover=0.0171  fee=0.000013  step_ret=-0.000647\n",
      "2024-01-07 00:00:00+00:00  turnover=0.0198  fee=0.000015  step_ret=-0.000117\n",
      "2024-01-08 00:00:00+00:00  turnover=0.0143  fee=0.000011  step_ret=-0.001588\n",
      "2024-01-09 00:00:00+00:00  turnover=0.0260  fee=0.000020  step_ret=-0.000568\n",
      "2024-01-10 00:00:00+00:00  turnover=0.0119  fee=0.000009  step_ret=-0.000827\n"
     ]
    }
   ],
   "source": [
    "ds_type = 'test'  # 'train', 'val', 'test'\n",
    "\n",
    "x, ts, syms, feats, masks = load_tensor_safe(\n",
    "        split_path=f'{root_folder}work/bundle_out/bundles/v1_minutes/bundle_01/splits/{ds_type}.parquet', \n",
    "        features=(\"Open\",\"High\",\"Low\",\"Close\",\"Volume\"),\n",
    "        return_mask=True\n",
    "    )\n",
    "\n",
    "# Giả sử bạn đã có x, ts, syms, feats, masks như log:\n",
    "rep = run_all_baselines(\n",
    "    x, ts, syms, feats, masks, \n",
    "    fee_bps=7.5, slippage_bps=0.0, verbose=False)\n",
    "pretty_print_summary(rep)\n",
    "\n",
    "# Trace chi tiết một chiến lược:\n",
    "trace_first_rebals(rep[\"ts\"], rep[\"raw\"][\"ew_daily\"], n_events=10)\n",
    "\n",
    "# Lấy đường vốn / trọng số để vẽ:\n",
    "equity = rep[\"raw\"][\"xmom_L60_top2_daily\"].equity   # [T]\n",
    "weights = rep[\"raw\"][\"xmom_L60_top2_daily\"].weights # [T,N]\n",
    "\n"
   ]
  },
  {
   "cell_type": "code",
   "execution_count": 4,
   "id": "c6ff7e35",
   "metadata": {},
   "outputs": [
    {
     "name": "stdout",
     "output_type": "stream",
     "text": [
      "[load_tensor_safe] Loaded (1036804, 13) from ../../../work/bundle_out/bundles/v1_minutes/bundle_01/splits/unseen.parquet\n",
      "[load_tensor_safe] N=4 symbols, F=5 features, strict=True, return_mask=True\n",
      "[load_tensor_safe] Data blocks ready: [(259201, 5), (259201, 5), (259201, 5), (259201, 5)]\n",
      "[load_tensor_safe] Tensor x ready: (259201, 4, 5), dtype=float32\n",
      "[load_tensor_safe] Mask ready: (259201, 4, 5), dtype=bool, n_valid=5184020\n",
      "[load_tensor_safe] Times ready: 259201 timestamps from 2025-01-01 00:00:00+00:00 to 2025-06-30 00:00:00+00:00\n",
      "== SUMMARY (after fees) ==\n",
      "+---------------------+----------+----------+---------+----------+----------+----------+-------------+-----------+\n",
      "|            Strategy | TotalRet |   AnnRet |  AnnVol |   Sharpe |    MaxDD |   Calmar | AvgTurnover | TotalFees |\n",
      "+---------------------+----------+----------+---------+----------+----------+----------+-------------+-----------+\n",
      "|          buyhold_eq | -0.0886f | -0.0040f | 0.6069f | -0.0066f | -0.4648f | -0.0085f |     0.0000f |   0.0008f |\n",
      "|            ew_daily | -0.0732f |  0.0392f | 0.6207f |  0.0619f | -0.4683f |  0.0837f |     0.0184f |   0.0025f |\n",
      "| xmom_L60_top2_daily | -0.2504f | -0.2942f | 0.6870f | -0.5071f | -0.5014f | -0.5866f |     0.9551f |   0.1297f |\n",
      "+---------------------+----------+----------+---------+----------+----------+----------+-------------+-----------+\n",
      "\n",
      "== TRACE first 10 rebalances ==\n",
      "2025-01-01 00:00:00+00:00  turnover=1.0000  fee=0.000750  step_ret=-0.000750\n",
      "2025-01-02 00:00:00+00:00  turnover=0.0058  fee=0.000004  step_ret=+0.000527\n",
      "2025-01-03 00:00:00+00:00  turnover=0.0200  fee=0.000015  step_ret=-0.000313\n",
      "2025-01-04 00:00:00+00:00  turnover=0.0161  fee=0.000012  step_ret=+0.000341\n",
      "2025-01-05 00:00:00+00:00  turnover=0.0059  fee=0.000004  step_ret=+0.000155\n",
      "2025-01-06 00:00:00+00:00  turnover=0.0044  fee=0.000003  step_ret=+0.000645\n",
      "2025-01-07 00:00:00+00:00  turnover=0.0076  fee=0.000006  step_ret=-0.000315\n",
      "2025-01-08 00:00:00+00:00  turnover=0.0165  fee=0.000012  step_ret=+0.000289\n",
      "2025-01-09 00:00:00+00:00  turnover=0.0064  fee=0.000005  step_ret=-0.000302\n",
      "2025-01-10 00:00:00+00:00  turnover=0.0151  fee=0.000011  step_ret=+0.001478\n"
     ]
    }
   ],
   "source": [
    "ds_type = 'unseen'  # 'train', 'test', 'unseen'\n",
    "\n",
    "x, ts, syms, feats, masks = load_tensor_safe(\n",
    "        split_path=f'{root_folder}work/bundle_out/bundles/v1_minutes/bundle_01/splits/{ds_type}.parquet', \n",
    "        features=(\"Open\",\"High\",\"Low\",\"Close\",\"Volume\"),\n",
    "        return_mask=True\n",
    "    )\n",
    "\n",
    "# Giả sử bạn đã có x, ts, syms, feats, masks như log:\n",
    "rep = run_all_baselines(\n",
    "    x, ts, syms, feats, masks, \n",
    "    fee_bps=7.5, slippage_bps=0.0, verbose=False)\n",
    "pretty_print_summary(rep)\n",
    "\n",
    "# Trace chi tiết một chiến lược:\n",
    "trace_first_rebals(rep[\"ts\"], rep[\"raw\"][\"ew_daily\"], n_events=10)\n",
    "\n",
    "# Lấy đường vốn / trọng số để vẽ:\n",
    "equity = rep[\"raw\"][\"xmom_L60_top2_daily\"].equity   # [T]\n",
    "weights = rep[\"raw\"][\"xmom_L60_top2_daily\"].weights # [T,N]\n",
    "\n"
   ]
  },
  {
   "cell_type": "code",
   "execution_count": null,
   "id": "c2bac991",
   "metadata": {},
   "outputs": [],
   "source": []
  },
  {
   "cell_type": "code",
   "execution_count": null,
   "id": "50695153",
   "metadata": {},
   "outputs": [],
   "source": []
  }
 ],
 "metadata": {
  "kernelspec": {
   "display_name": "Python (fin_rl)",
   "language": "python",
   "name": "fin_rl"
  },
  "language_info": {
   "codemirror_mode": {
    "name": "ipython",
    "version": 3
   },
   "file_extension": ".py",
   "mimetype": "text/x-python",
   "name": "python",
   "nbconvert_exporter": "python",
   "pygments_lexer": "ipython3",
   "version": "3.10.18"
  }
 },
 "nbformat": 4,
 "nbformat_minor": 5
}
